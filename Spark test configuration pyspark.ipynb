{
 "cells": [
  {
   "cell_type": "code",
   "execution_count": 1,
   "metadata": {},
   "outputs": [],
   "source": [
    "from pyspark import SparkContext, SparkConf\n",
    "from pyspark.sql import SQLContext\n",
    "from pyspark.sql.types import *\n",
    "from pyspark.sql import functions as F\n",
    "from pyspark.sql import Row\n",
    "import re"
   ]
  },
  {
   "cell_type": "code",
   "execution_count": 3,
   "metadata": {},
   "outputs": [
    {
     "data": {
      "text/plain": [
       "[('spark.repl.class.uri', 'spark://192.168.254.21:39858/classes'), ('spark.jars', 'file:/usr/local/share/jupyter/kernels/apache_toree_pyspark/lib/toree-assembly-0.2.0.dev1-incubating-SNAPSHOT.jar'), ('spark.app.id', 'local-1531406538222'), ('spark.repl.class.outputDir', '/tmp/spark-b013f154-3c31-4bb0-8fdd-b1dcf13f8908/repl-b1ee01bd-f762-4dd5-9aed-3afa4ab11e09'), ('spark.master', 'local[*]'), ('spark.driver.port', '39858'), ('spark.executor.id', 'driver'), ('spark.submit.deployMode', 'client'), ('spark.app.name', 'Apache Toree'), ('spark.driver.host', '192.168.254.21')]"
      ]
     },
     "execution_count": 3,
     "metadata": {},
     "output_type": "execute_result"
    }
   ],
   "source": [
    "sc.getConf().getAll()"
   ]
  },
  {
   "cell_type": "code",
   "execution_count": 4,
   "metadata": {},
   "outputs": [],
   "source": [
    "conf = SparkConf().setAll([('spark.app.name', 'MonAppli'),('spark.executor.memory', '8g'), ('spark.executor.cores', '3'), ('spark.cores.max', '3'), ('spark.driver.memory','8g')])\n",
    "sc.stop()\n",
    "sc = SparkContext(conf=conf)"
   ]
  },
  {
   "cell_type": "code",
   "execution_count": 5,
   "metadata": {},
   "outputs": [
    {
     "data": {
      "text/plain": [
       "<SparkContext master=local[*] appName=MonAppli>"
      ]
     },
     "execution_count": 5,
     "metadata": {},
     "output_type": "execute_result"
    }
   ],
   "source": [
    "sc"
   ]
  },
  {
   "cell_type": "code",
   "execution_count": 6,
   "metadata": {},
   "outputs": [
    {
     "data": {
      "text/plain": [
       "[('spark.app.id', 'local-1531406561218'), ('spark.app.name', 'MonAppli'), ('spark.jars', 'file:/usr/local/share/jupyter/kernels/apache_toree_pyspark/lib/toree-assembly-0.2.0.dev1-incubating-SNAPSHOT.jar'), ('spark.repl.class.outputDir', '/tmp/spark-b013f154-3c31-4bb0-8fdd-b1dcf13f8908/repl-b1ee01bd-f762-4dd5-9aed-3afa4ab11e09'), ('spark.executor.id', 'driver'), ('spark.cores.max', '3'), ('spark.repl.class.uri', 'spark://192.168.254.21:35376/classes'), ('spark.rdd.compress', 'True'), ('spark.driver.memory', '8g'), ('spark.serializer.objectStreamReset', '100'), ('spark.master', 'local[*]'), ('spark.executor.memory', '8g'), ('spark.executor.cores', '3'), ('spark.submit.deployMode', 'client'), ('spark.driver.port', '35376'), ('spark.driver.host', '192.168.254.21')]"
      ]
     },
     "execution_count": 6,
     "metadata": {},
     "output_type": "execute_result"
    }
   ],
   "source": [
    "sc.getConf().getAll()"
   ]
  },
  {
   "cell_type": "code",
   "execution_count": null,
   "metadata": {},
   "outputs": [],
   "source": []
  }
 ],
 "metadata": {
  "kernelspec": {
   "display_name": "Apache Toree - PySpark",
   "language": "python",
   "name": "apache_toree_pyspark"
  },
  "language_info": {
   "file_extension": ".py",
   "name": "python",
   "pygments_lexer": "python",
   "version": "3.6.5\n"
  }
 },
 "nbformat": 4,
 "nbformat_minor": 2
}
